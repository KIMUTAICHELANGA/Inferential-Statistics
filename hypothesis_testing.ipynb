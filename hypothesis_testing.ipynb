{
 "cells": [
  {
   "cell_type": "markdown",
   "metadata": {},
   "source": [
    "Hypothesis testing is crucial in inferential statistics for inferring population parameters from sample data. It involves two key components:\n",
    "\n",
    "Null Hypothesis: a statement that suggests no significant difference or effect.\n",
    "Alternative Hypothesis: a statement that contradicts the null hypothesis, suggesting a significant difference or effect.\n",
    "This notebook covers several hypothesis tests:\n",
    "\n",
    "1. One Population Proportion\n",
    "2. Difference in Population Proportions\n",
    "3. One Population Mean\n",
    "4. Difference in Population Means\n",
    "We'll also introduce functions from the statsmodels Python package, aiding in the calculation of t-statistics, z-statistics, and corresponding p-values for hypothesis testing."
   ]
  },
  {
   "cell_type": "code",
   "execution_count": 11,
   "metadata": {},
   "outputs": [
    {
     "ename": "ModuleNotFoundError",
     "evalue": "No module named 'statmodels'",
     "output_type": "error",
     "traceback": [
      "\u001b[1;31m---------------------------------------------------------------------------\u001b[0m",
      "\u001b[1;31mModuleNotFoundError\u001b[0m                       Traceback (most recent call last)",
      "Cell \u001b[1;32mIn[11], line 4\u001b[0m\n\u001b[0;32m      2\u001b[0m \u001b[38;5;28;01mimport\u001b[39;00m \u001b[38;5;21;01mpandas\u001b[39;00m \u001b[38;5;28;01mas\u001b[39;00m \u001b[38;5;21;01mpd\u001b[39;00m \n\u001b[0;32m      3\u001b[0m \u001b[38;5;28;01mimport\u001b[39;00m \u001b[38;5;21;01mmatplotlib\u001b[39;00m\u001b[38;5;21;01m.\u001b[39;00m\u001b[38;5;21;01mpyplot\u001b[39;00m \u001b[38;5;28;01mas\u001b[39;00m \u001b[38;5;21;01mplt\u001b[39;00m \n\u001b[1;32m----> 4\u001b[0m \u001b[38;5;28;01mimport\u001b[39;00m \u001b[38;5;21;01mstatmodels\u001b[39;00m\u001b[38;5;21;01m.\u001b[39;00m\u001b[38;5;21;01mapi\u001b[39;00m \u001b[38;5;28;01mas\u001b[39;00m \u001b[38;5;21;01msm\u001b[39;00m \n",
      "\u001b[1;31mModuleNotFoundError\u001b[0m: No module named 'statmodels'"
     ]
    }
   ],
   "source": [
    "import numpy as np \n",
    "import pandas as pd \n",
    "import matplotlib.pyplot as plt \n",
    "import statmodels.api as sm "
   ]
  },
  {
   "cell_type": "markdown",
   "metadata": {},
   "source": [
    "One Population Proportion\n",
    "Research Question\n",
    "In previous years, 52% of parents believed that electronics and social media was the cause of their teenager’s lack of sleep. Do more parents today believe that their teenager’s lack of sleep is caused due to electronics and social media?\n",
    "\n",
    "Population: Parents with a teenager (age 13-18)\n",
    "Parameter of Interest: p\n",
    "\n",
    "Null Hypothesis: p = 0.52\n",
    "Alternative Hypthosis: p > 0.52 (note that this is a one-sided test)\n",
    "\n",
    "Data: 1018 people were surveyed. 56% of those who were surveyed believe that their teenager’s lack of sleep is caused due to electronics and social media."
   ]
  },
  {
   "cell_type": "code",
   "execution_count": null,
   "metadata": {},
   "outputs": [],
   "source": [
    "n = 1018\n",
    "pnull = .52 \n",
    "phat = .56"
   ]
  },
  {
   "cell_type": "code",
   "execution_count": null,
   "metadata": {},
   "outputs": [],
   "source": [
    "sm.stats.proportions_ztest(phat*n,n,pnull,alternative ='larger')"
   ]
  },
  {
   "cell_type": "markdown",
   "metadata": {},
   "source": [
    "Based on the small calculated p-value from the z-test, we reject the Null hypothesis, indicating that the percentage of parents attributing their teenager's lack of sleep to electronics and social media is unlikely to be the same as the previous estimate of 52%. While we don't formally accept the alternative hypothesis, this suggests a strong possibility that this proportion exceeds 52%."
   ]
  },
  {
   "cell_type": "markdown",
   "metadata": {},
   "source": [
    "Research Question:\n",
    "Is there a significant difference between the proportions of parents of black children and parents of Hispanic children who report that their child has had some swimming lessons?\n",
    "\n",
    "Populations:\n",
    "All parents of black children aged 6-18 and all parents of Hispanic children aged 6-18.\n",
    "\n",
    "Parameter of Interest:\n",
    "The difference between the proportions of parents (p1 - p2), where p1 represents parents of black children and p2 represents parents of Hispanic children.\n",
    "\n",
    "Null Hypothesis:\n",
    "The difference in proportions of parents who report their child has had swimming lessons between black and Hispanic children is zero.\n",
    "\n",
    "Alternative Hypothesis:\n",
    "There is a difference in proportions of parents who report their child has had swimming lessons between black and Hispanic children.\n",
    "\n",
    "Data:\n",
    "\n",
    "247 Parents of Black Children: 36.8% report their child has had some swimming lessons.\n",
    "308 Parents of Hispanic Children: 38.9% report their child has had some swimming lessons."
   ]
  },
  {
   "cell_type": "code",
   "execution_count": null,
   "metadata": {},
   "outputs": [],
   "source": [
    "n1 = 247\n",
    "p1 = .37\n",
    "\n",
    "n2 = 308\n",
    "p2 = .39\n",
    "\n",
    "population1 = np.random.binomial(1, p1, n1)\n",
    "population2 = np.random.binomial(1, p2, n2)\n",
    "sm.stats.ttest_ind(population1, population2)"
   ]
  },
  {
   "cell_type": "markdown",
   "metadata": {},
   "source": [
    "Given the relatively high p-value of approximately 0.768, we fail to reject the Null hypothesis. This indicates that there is insufficient evidence to conclude a statistically significant difference in the population proportions between parents of black children and parents of Hispanic children regarding their reports of their child having had swimming lessons."
   ]
  },
  {
   "cell_type": "markdown",
   "metadata": {},
   "source": [
    "\n",
    "Research Question:\n",
    "Is the average cartwheel distance (in inches) for adults greater than 80 inches?\n",
    "\n",
    "Population:\n",
    "All adults.\n",
    "\n",
    "Parameter of Interest:\n",
    "The population mean cartwheel distance.\n",
    "\n",
    "Null Hypothesis:\n",
    "The population mean cartwheel distance is equal to 80 inches.\n",
    "\n",
    "Alternative Hypothesis:\n",
    "The population mean cartwheel distance is greater than 80 inches.\n",
    "\n",
    "Data:\n",
    "There are 25 adult participants."
   ]
  },
  {
   "cell_type": "code",
   "execution_count": null,
   "metadata": {},
   "outputs": [],
   "source": [
    "cwdata = np.array([80.57, 98.96, 85.28, 83.83, 69.94, 89.59, 91.09, 66.25, 91.21, 82.7 , 73.54, 81.99, 54.01, \n",
    "                 82.89, 75.88, 98.32, 107.2 , 85.53, 79.08, 84.3 , 89.32, 86.35, 78.98, 92.26, 87.01])"
   ]
  },
  {
   "cell_type": "code",
   "execution_count": null,
   "metadata": {},
   "outputs": [],
   "source": [
    "n = len(cwdata)\n",
    "mean = cwdata.mean()\n",
    "sd = cwdata.std()\n",
    "(n, mean, sd)"
   ]
  },
  {
   "cell_type": "code",
   "execution_count": null,
   "metadata": {},
   "outputs": [],
   "source": [
    "sm.stats.ztest(cwdata, value = 80, alternative = \"larger\")"
   ]
  },
  {
   "cell_type": "markdown",
   "metadata": {},
   "source": [
    "Given that the p-value (0.0394) is less than the standard confidence level of 0.05, we reject the Null hypothesis, suggesting that the mean cartwheel distance for adults (a population parameter) is not equal to 80 inches. There is compelling evidence to support the alternative hypothesis, indicating that the mean cartwheel distance is indeed greater than 80 inches. It's worth noting that we employed the \"larger\" alternative parameter in the z-test.\n",
    "\n",
    "Additionally, we can visualize the distribution of the data using a histogram to assess if it approximately conforms to a Normal distribution."
   ]
  },
  {
   "cell_type": "code",
   "execution_count": null,
   "metadata": {},
   "outputs": [],
   "source": [
    "plt.hist(cwdata,bins=5,edgecolor='k')\n",
    "plt.show()"
   ]
  },
  {
   "cell_type": "markdown",
   "metadata": {},
   "source": []
  }
 ],
 "metadata": {
  "kernelspec": {
   "display_name": "Python 3",
   "language": "python",
   "name": "python3"
  },
  "language_info": {
   "codemirror_mode": {
    "name": "ipython",
    "version": 3
   },
   "file_extension": ".py",
   "mimetype": "text/x-python",
   "name": "python",
   "nbconvert_exporter": "python",
   "pygments_lexer": "ipython3",
   "version": "3.11.3"
  }
 },
 "nbformat": 4,
 "nbformat_minor": 2
}
